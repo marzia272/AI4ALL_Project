{
  "nbformat": 4,
  "nbformat_minor": 0,
  "metadata": {
    "colab": {
      "provenance": [],
      "machine_shape": "hm",
      "include_colab_link": true
    },
    "kernelspec": {
      "name": "python3",
      "display_name": "Python 3"
    },
    "language_info": {
      "name": "python"
    }
  },
  "cells": [
    {
      "cell_type": "markdown",
      "metadata": {
        "id": "view-in-github",
        "colab_type": "text"
      },
      "source": [
        "<a href=\"https://colab.research.google.com/github/marzia272/AI4ALL_Project/blob/marzia/AI4ALL_project.ipynb\" target=\"_parent\"><img src=\"https://colab.research.google.com/assets/colab-badge.svg\" alt=\"Open In Colab\"/></a>"
      ]
    },
    {
      "cell_type": "code",
      "execution_count": null,
      "metadata": {
        "id": "22WSFrfijr4E"
      },
      "outputs": [],
      "source": [
        "# 📊 Data Handling\n",
        "import pandas as pd                 # For dataframes and CSV operations\n",
        "import numpy as np                 # For numerical operations\n",
        "import os                          # For file and folder access\n",
        "\n",
        "# 🧼 Data Preprocessing\n",
        "from sklearn.impute import KNNImputer         # To fill missing values using K-nearest neighbors\n",
        "from sklearn.preprocessing import StandardScaler  # To normalize EEG data\n",
        "from sklearn.preprocessing import LabelEncoder     # To encode emotion labels\n",
        "\n",
        "# 🤖 Machine Learning Models\n",
        "from sklearn.svm import SVC                     # Support Vector Classifier\n",
        "from sklearn.ensemble import RandomForestClassifier   # Random Forest for comparison\n",
        "from sklearn.linear_model import LogisticRegression   # Logistic Regression baseline\n",
        "\n",
        "# 🎯 Model Training and Evaluation\n",
        "from sklearn.model_selection import train_test_split     # To split data into train and test sets\n",
        "from sklearn.model_selection import cross_val_score      # For cross-validation\n",
        "from sklearn.metrics import classification_report         # To show precision, recall, F1-score\n",
        "from sklearn.metrics import confusion_matrix, accuracy_score  # To measure performance\n",
        "\n",
        "# 📉 Dimensionality Reduction / Feature Selection (optional)\n",
        "from sklearn.decomposition import PCA               # Principal Component Analysis for visualization\n",
        "from sklearn.feature_selection import SelectKBest, f_classif  # Feature selection based on ANOVA\n",
        "\n",
        "# 📈 Data Visualization\n",
        "import matplotlib.pyplot as plt      # For plotting graphs\n",
        "import seaborn as sns                # For heatmaps, better visual styles\n",
        "\n",
        "# ⚠️ Suppress Warnings\n",
        "import warnings\n",
        "warnings.simplefilter(action='ignore', category=FutureWarning)\n",
        "warnings.filterwarnings('ignore', category=RuntimeWarning, message='divide by zero encountered in log10')\n"
      ]
    },
    {
      "cell_type": "code",
      "source": [
        "from google.colab import files\n",
        "uploaded = files.upload()\n"
      ],
      "metadata": {
        "id": "nfWwK-2lXqUW"
      },
      "execution_count": null,
      "outputs": []
    },
    {
      "cell_type": "code",
      "source": [
        "import zipfile\n",
        "import os\n",
        "\n",
        "# Path to the uploaded ZIP file\n",
        "zip_path = \"GAMEEMO.zip\"  # Replace with actual name\n",
        "extract_path = \"Dataset\"  # Replace with your desired folder\n",
        "\n",
        "# Create the folder if it doesn't exist\n",
        "os.makedirs(extract_path, exist_ok=True)\n",
        "\n",
        "# Unzip the file\n",
        "with zipfile.ZipFile(zip_path, 'r') as zip_ref:\n",
        "    zip_ref.extractall(extract_path)\n",
        "\n",
        "print(\"✅ Unzipped to:\", extract_path)\n"
      ],
      "metadata": {
        "id": "0CuIkq-PbSvD"
      },
      "execution_count": null,
      "outputs": []
    },
    {
      "cell_type": "code",
      "source": [
        "# Install dependencies as needed:\n",
        "# pip install kagglehub[pandas-datasets]\n",
        "import kagglehub\n",
        "from kagglehub import KaggleDatasetAdapter\n",
        "\n",
        "# Set the path to the file you'd like to load\n",
        "file_path = \"S01G1AllChannels.csv\"\n",
        "\n",
        "# Load the latest version\n",
        "df = kagglehub.load_dataset(\n",
        "  KaggleDatasetAdapter.PANDAS,\n",
        "  \"wajahat1064/emotion-recognition-using-eeg-and-computer-games\",\n",
        "  file_path,\n",
        "  # Provide any additional arguments like\n",
        "  # sql_query or pandas_kwargs. See the\n",
        "  # documenation for more information:\n",
        "  # https://github.com/Kaggle/kagglehub/blob/main/README.md#kaggledatasetadapterpandas\n",
        ")\n",
        "\n",
        "print(\"First 5 records:\", df.head())"
      ],
      "metadata": {
        "id": "LnF6ODZMkAZV"
      },
      "execution_count": null,
      "outputs": []
    },
    {
      "cell_type": "code",
      "source": [
        "# Check for missing values\n",
        "missing_summary = df.isnull().sum()\n",
        "print(\"Missing values per column:\\n\", missing_summary)\n",
        "\n",
        "# Drop columns with excessive missing values (optional)\n",
        "threshold = 0.5 * len(df)\n",
        "df = df.loc[:, df.isnull().sum() < threshold]\n",
        "\n",
        "# Use KNN imputer for remaining missing values\n",
        "imputer = KNNImputer(n_neighbors=5)\n",
        "df_imputed = pd.DataFrame(imputer.fit_transform(df), columns=df.columns)\n",
        "\n",
        "# Replace original with imputed\n",
        "df = df_imputed\n"
      ],
      "metadata": {
        "id": "pLx6eADxO6oC"
      },
      "execution_count": null,
      "outputs": []
    },
    {
      "cell_type": "code",
      "source": [
        "# Visualize distributions to find outliers\n",
        "plt.figure(figsize=(12, 6))\n",
        "sns.boxplot(data=df)\n",
        "plt.xticks(rotation=90)\n",
        "plt.title(\"Boxplots to visualize outliers\")\n",
        "plt.show()\n",
        "\n",
        "# Optionally: remove rows with outliers using IQR method\n",
        "Q1 = df.quantile(0.25)\n",
        "Q3 = df.quantile(0.75)\n",
        "IQR = Q3 - Q1\n",
        "\n",
        "# Filter out outliers\n",
        "df = df[~((df < (Q1 - 1.5 * IQR)) | (df > (Q3 + 1.5 * IQR))).any(axis=1)]\n"
      ],
      "metadata": {
        "id": "nUQ6_gASPdJ8"
      },
      "execution_count": null,
      "outputs": []
    },
    {
      "cell_type": "code",
      "source": [
        "# Check for object or categorical columns\n",
        "print(\"Non-numeric columns:\", df.select_dtypes(include=['object', 'category']).columns)\n",
        "\n",
        "# If any categorical columns are present, encode them\n",
        "# Example: df['Emotion'] = df['Emotion'].map({'Happy': 0, 'Sad': 1, 'Angry': 2, ...})\n",
        "# Or use one-hot encoding:\n",
        "# df = pd.get_dummies(df, drop_first=True)\n"
      ],
      "metadata": {
        "id": "NE51KeRWPhCB"
      },
      "execution_count": null,
      "outputs": []
    },
    {
      "cell_type": "code",
      "source": [
        "# Example: mean signal per row (across channels)\n",
        "df['Signal_Mean'] = df.mean(axis=1)\n",
        "df['Signal_Std'] = df.std(axis=1)\n",
        "\n",
        "# Optional: Feature interaction\n",
        "df['Mean_to_Std_Ratio'] = df['Signal_Mean'] / (df['Signal_Std'] + 1e-5)\n"
      ],
      "metadata": {
        "id": "0iWE_EiyPlQG"
      },
      "execution_count": null,
      "outputs": []
    },
    {
      "cell_type": "code",
      "source": [
        "print(\"Shape after all prep:\", df.shape)\n",
        "print(df.head())\n"
      ],
      "metadata": {
        "id": "o7QvntHkPpF5"
      },
      "execution_count": null,
      "outputs": []
    }
  ]
}