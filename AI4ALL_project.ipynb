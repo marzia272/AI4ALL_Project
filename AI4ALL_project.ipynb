{
  "nbformat": 4,
  "nbformat_minor": 0,
  "metadata": {
    "colab": {
      "provenance": [],
      "include_colab_link": true
    },
    "kernelspec": {
      "name": "python3",
      "display_name": "Python 3"
    },
    "language_info": {
      "name": "python"
    }
  },
  "cells": [
    {
      "cell_type": "markdown",
      "metadata": {
        "id": "view-in-github",
        "colab_type": "text"
      },
      "source": [
        "<a href=\"https://colab.research.google.com/github/marzia272/AI4ALL_Project/blob/marzia/AI4ALL_project.ipynb\" target=\"_parent\"><img src=\"https://colab.research.google.com/assets/colab-badge.svg\" alt=\"Open In Colab\"/></a>"
      ]
    },
    {
      "cell_type": "code",
      "execution_count": 20,
      "metadata": {
        "id": "22WSFrfijr4E",
        "colab": {
          "base_uri": "https://localhost:8080/",
          "height": 106
        },
        "outputId": "c091d664-ff7e-4166-b1ae-62131da275b8"
      },
      "outputs": [
        {
          "output_type": "error",
          "ename": "SyntaxError",
          "evalue": "invalid syntax (ipython-input-20-1462611536.py, line 35)",
          "traceback": [
            "\u001b[0;36m  File \u001b[0;32m\"/tmp/ipython-input-20-1462611536.py\"\u001b[0;36m, line \u001b[0;32m35\u001b[0m\n\u001b[0;31m    pip install scikit-learn\u001b[0m\n\u001b[0m        ^\u001b[0m\n\u001b[0;31mSyntaxError\u001b[0m\u001b[0;31m:\u001b[0m invalid syntax\n"
          ]
        }
      ],
      "source": [
        "# Data handling\n",
        "import pandas as pd\n",
        "import numpy as np\n",
        "\n",
        "# Visualization\n",
        "import seaborn as sns\n",
        "import matplotlib.pyplot as plt\n",
        "\n",
        "# Machine learning and preprocessing\n",
        "from sklearn.impute import KNNImputer\n",
        "from sklearn.preprocessing import StandardScaler, LabelEncoder\n",
        "from sklearn.model_selection import train_test_split\n",
        "from sklearn.svm import SVC\n",
        "from sklearn.metrics import classification_report, confusion_matrix\n",
        "\n",
        "# Signal processing\n",
        "from scipy.signal import welch, butter, filtfilt\n",
        "\n",
        "# Warnings control\n",
        "import warnings\n",
        "warnings.simplefilter(action='ignore', category=FutureWarning)\n",
        "warnings.filterwarnings('ignore', category=RuntimeWarning, message='divide by zero encountered in log10')\n",
        "\n",
        "# KaggleHub for loading datasets (if using Kaggle directly)\n",
        "import kagglehub\n",
        "from kagglehub import KaggleDatasetAdapter\n",
        "\n",
        "# Dimensionality reduction (for visualization)\n",
        "from sklearn.decomposition import PCA\n",
        "from sklearn.manifold import TSNE\n",
        "\n",
        "# Saving output\n",
        "import os\n",
        "\n"
      ]
    },
    {
      "cell_type": "code",
      "source": [
        "import pandas as pd\n",
        "import numpy as np\n",
        "from sklearn.impute import KNNImputer\n",
        "from sklearn.preprocessing import StandardScaler, LabelEncoder\n",
        "import kagglehub\n",
        "import re\n",
        "\n",
        "# Emotion labels based on game number\n",
        "emotion_map = {\n",
        "    'G1': 'Excited',\n",
        "    'G2': 'Calm',\n",
        "    'G3': 'Fearful',\n",
        "    'G4': 'Bored'\n",
        "}\n",
        "\n",
        "# Subjects S01 to S28\n",
        "subjects = []\n",
        "for i in range(1, 29):\n",
        "    subject = f\"S{str(i).zfill(2)}\"\n",
        "    subjects.append(subject)\n",
        "\n",
        "# Games G1 to G4\n",
        "games = []\n",
        "for j in range(1, 5):\n",
        "    game = f\"G{j}\"\n",
        "    games.append(game)\n",
        "\n",
        "# All data storage\n",
        "all_data = []\n",
        "\n",
        "# Load dataset context (ONE TIME for all files)\n",
        "with kagglehub.load_dataset(\"wajahat1064/emotion-recognition-using-eeg-and-computer-games\",\".\",\"PANDAS\") as dataset:\n",
        "\n",
        "    for subject in subjects:\n",
        "        for game in games:\n",
        "            base_name = subject + game + \"AllChannels\"\n",
        "            file_name = base_name + \".csv\"\n",
        "\n",
        "            try:\n",
        "                # Step 1: Get full path to file\n",
        "                file_path = dataset.path(file_name)\n",
        "\n",
        "                # Step 2: Load with pandas\n",
        "                df = pd.read_csv(file_path)\n",
        "\n",
        "                # Step 3: Drop unnamed/index columns\n",
        "                columns_to_keep = []\n",
        "                for col in df.columns:\n",
        "                    if not col.startswith(\"Unnamed\"):\n",
        "                        columns_to_keep.append(col)\n",
        "                df = df[columns_to_keep]\n",
        "\n",
        "                # Step 4: Drop all-NaN columns\n",
        "                df = df.dropna(axis=1, how='all')\n",
        "\n",
        "                # Step 5: Impute\n",
        "                imputer = KNNImputer(n_neighbors=5)\n",
        "                df = pd.DataFrame(imputer.fit_transform(df), columns=df.columns)\n",
        "\n",
        "                # Step 6: Normalize\n",
        "                scaler = StandardScaler()\n",
        "                df[df.columns] = scaler.fit_transform(df[df.columns])\n",
        "\n",
        "                # Step 7: Add metadata\n",
        "                df[\"Subject\"] = subject\n",
        "                df[\"Game\"] = game\n",
        "                df[\"Emotion\"] = emotion_map[game]\n",
        "\n",
        "                all_data.append(df)\n",
        "                print(\"✅ Loaded:\", file_name)\n",
        "\n",
        "            except Exception as e:\n",
        "                print(\"❌ Error loading\", file_name + \":\", str(e))\n",
        "\n",
        "# Combine all data\n",
        "combined_df = pd.concat(all_data, ignore_index=True)\n",
        "\n",
        "# Encode emotion for ML\n",
        "label_encoder = LabelEncoder()\n",
        "combined_df['Emotion_encoded'] = label_encoder.fit_transform(combined_df['Emotion'])\n",
        "\n",
        "# Sort by Subject and Game\n",
        "combined_df = combined_df.sort_values(by=['Subject', 'Game'])\n",
        "\n",
        "# Final summary\n",
        "print(\"📊 Final shape:\", combined_df.shape)\n",
        "print(\"🎯 Emotions:\", label_encoder.classes_)\n",
        "print(combined_df[['Subject', 'Game', 'Emotion']].drop_duplicates().head())\n",
        "\n",
        "# Optional: Save to CSV\n",
        "combined_df.to_csv(\"All_EEG_Combined.csv\", index=False)\n",
        "print(\"💾 Saved to All_EEG_Combined.csv\")"
      ],
      "metadata": {
        "id": "LnF6ODZMkAZV",
        "colab": {
          "base_uri": "https://localhost:8080/",
          "height": 391
        },
        "outputId": "8636da07-030c-4454-f15b-a6b89aa3a85d"
      },
      "execution_count": 32,
      "outputs": [
        {
          "output_type": "stream",
          "name": "stderr",
          "text": [
            "/tmp/ipython-input-32-4282082840.py:32: DeprecationWarning: load_dataset is deprecated and will be removed in a future version.\n",
            "  with kagglehub.load_dataset(\"wajahat1064/emotion-recognition-using-eeg-and-computer-games\",\".\",\"PANDAS\") as dataset:\n"
          ]
        },
        {
          "output_type": "error",
          "ename": "KeyError",
          "evalue": "'wajahat1064/emotion-recognition-using-eeg-and-computer-games'",
          "traceback": [
            "\u001b[0;31m---------------------------------------------------------------------------\u001b[0m",
            "\u001b[0;31mKeyError\u001b[0m                                  Traceback (most recent call last)",
            "\u001b[0;32m/tmp/ipython-input-32-4282082840.py\u001b[0m in \u001b[0;36m<cell line: 0>\u001b[0;34m()\u001b[0m\n\u001b[1;32m     30\u001b[0m \u001b[0;34m\u001b[0m\u001b[0m\n\u001b[1;32m     31\u001b[0m \u001b[0;31m# Load dataset context (ONE TIME for all files)\u001b[0m\u001b[0;34m\u001b[0m\u001b[0;34m\u001b[0m\u001b[0m\n\u001b[0;32m---> 32\u001b[0;31m \u001b[0;32mwith\u001b[0m \u001b[0mkagglehub\u001b[0m\u001b[0;34m.\u001b[0m\u001b[0mload_dataset\u001b[0m\u001b[0;34m(\u001b[0m\u001b[0;34m\"wajahat1064/emotion-recognition-using-eeg-and-computer-games\"\u001b[0m\u001b[0;34m,\u001b[0m\u001b[0;34m\".\"\u001b[0m\u001b[0;34m,\u001b[0m\u001b[0;34m\"PANDAS\"\u001b[0m\u001b[0;34m)\u001b[0m \u001b[0;32mas\u001b[0m \u001b[0mdataset\u001b[0m\u001b[0;34m:\u001b[0m\u001b[0;34m\u001b[0m\u001b[0;34m\u001b[0m\u001b[0m\n\u001b[0m\u001b[1;32m     33\u001b[0m \u001b[0;34m\u001b[0m\u001b[0m\n\u001b[1;32m     34\u001b[0m     \u001b[0;32mfor\u001b[0m \u001b[0msubject\u001b[0m \u001b[0;32min\u001b[0m \u001b[0msubjects\u001b[0m\u001b[0;34m:\u001b[0m\u001b[0;34m\u001b[0m\u001b[0;34m\u001b[0m\u001b[0m\n",
            "\u001b[0;32m/usr/local/lib/python3.11/dist-packages/kagglehub/datasets.py\u001b[0m in \u001b[0;36mload_dataset\u001b[0;34m(adapter, handle, path, pandas_kwargs, sql_query, hf_kwargs)\u001b[0m\n\u001b[1;32m    174\u001b[0m         \u001b[0;34m\"load_dataset is deprecated and will be removed in a future version.\"\u001b[0m\u001b[0;34m,\u001b[0m \u001b[0mDeprecationWarning\u001b[0m\u001b[0;34m,\u001b[0m \u001b[0mstacklevel\u001b[0m\u001b[0;34m=\u001b[0m\u001b[0;36m2\u001b[0m\u001b[0;34m\u001b[0m\u001b[0;34m\u001b[0m\u001b[0m\n\u001b[1;32m    175\u001b[0m     )\n\u001b[0;32m--> 176\u001b[0;31m     \u001b[0;32mreturn\u001b[0m \u001b[0mdataset_load\u001b[0m\u001b[0;34m(\u001b[0m\u001b[0madapter\u001b[0m\u001b[0;34m,\u001b[0m \u001b[0mhandle\u001b[0m\u001b[0;34m,\u001b[0m \u001b[0mpath\u001b[0m\u001b[0;34m,\u001b[0m \u001b[0mpandas_kwargs\u001b[0m\u001b[0;34m=\u001b[0m\u001b[0mpandas_kwargs\u001b[0m\u001b[0;34m,\u001b[0m \u001b[0msql_query\u001b[0m\u001b[0;34m=\u001b[0m\u001b[0msql_query\u001b[0m\u001b[0;34m,\u001b[0m \u001b[0mhf_kwargs\u001b[0m\u001b[0;34m=\u001b[0m\u001b[0mhf_kwargs\u001b[0m\u001b[0;34m)\u001b[0m\u001b[0;34m\u001b[0m\u001b[0;34m\u001b[0m\u001b[0m\n\u001b[0m\u001b[1;32m    177\u001b[0m \u001b[0;34m\u001b[0m\u001b[0m\n\u001b[1;32m    178\u001b[0m \u001b[0;34m\u001b[0m\u001b[0m\n",
            "\u001b[0;32m/usr/local/lib/python3.11/dist-packages/kagglehub/datasets.py\u001b[0m in \u001b[0;36mdataset_load\u001b[0;34m(adapter, handle, path, pandas_kwargs, sql_query, hf_kwargs, polars_frame_type, polars_kwargs)\u001b[0m\n\u001b[1;32m    116\u001b[0m                 files with multiple sheets)\n\u001b[1;32m    117\u001b[0m     \"\"\"\n\u001b[0;32m--> 118\u001b[0;31m     validate_dataset_load_args(\n\u001b[0m\u001b[1;32m    119\u001b[0m         \u001b[0madapter\u001b[0m\u001b[0;34m,\u001b[0m\u001b[0;34m\u001b[0m\u001b[0;34m\u001b[0m\u001b[0m\n\u001b[1;32m    120\u001b[0m         \u001b[0mpandas_kwargs\u001b[0m\u001b[0;34m=\u001b[0m\u001b[0mpandas_kwargs\u001b[0m\u001b[0;34m,\u001b[0m\u001b[0;34m\u001b[0m\u001b[0;34m\u001b[0m\u001b[0m\n",
            "\u001b[0;32m/usr/local/lib/python3.11/dist-packages/kagglehub/datasets.py\u001b[0m in \u001b[0;36mvalidate_dataset_load_args\u001b[0;34m(adapter, **kwargs)\u001b[0m\n\u001b[1;32m    181\u001b[0m     \u001b[0;34m**\u001b[0m\u001b[0mkwargs\u001b[0m\u001b[0;34m:\u001b[0m \u001b[0mAny\u001b[0m\u001b[0;34m,\u001b[0m  \u001b[0;31m# noqa: ANN401\u001b[0m\u001b[0;34m\u001b[0m\u001b[0;34m\u001b[0m\u001b[0m\n\u001b[1;32m    182\u001b[0m ) -> None:\n\u001b[0;32m--> 183\u001b[0;31m     \u001b[0mvalid_kwargs\u001b[0m \u001b[0;34m=\u001b[0m \u001b[0m_DATASET_LOAD_VALID_KWARGS_MAP\u001b[0m\u001b[0;34m[\u001b[0m\u001b[0madapter\u001b[0m\u001b[0;34m]\u001b[0m\u001b[0;34m\u001b[0m\u001b[0;34m\u001b[0m\u001b[0m\n\u001b[0m\u001b[1;32m    184\u001b[0m     \u001b[0minvalid_kwargs_list\u001b[0m\u001b[0;34m:\u001b[0m \u001b[0mlist\u001b[0m\u001b[0;34m[\u001b[0m\u001b[0mstr\u001b[0m\u001b[0;34m]\u001b[0m \u001b[0;34m=\u001b[0m \u001b[0;34m[\u001b[0m\u001b[0;34m]\u001b[0m\u001b[0;34m\u001b[0m\u001b[0;34m\u001b[0m\u001b[0m\n\u001b[1;32m    185\u001b[0m     \u001b[0;32mfor\u001b[0m \u001b[0mkey\u001b[0m\u001b[0;34m,\u001b[0m \u001b[0mvalue\u001b[0m \u001b[0;32min\u001b[0m \u001b[0mkwargs\u001b[0m\u001b[0;34m.\u001b[0m\u001b[0mitems\u001b[0m\u001b[0;34m(\u001b[0m\u001b[0;34m)\u001b[0m\u001b[0;34m:\u001b[0m\u001b[0;34m\u001b[0m\u001b[0;34m\u001b[0m\u001b[0m\n",
            "\u001b[0;31mKeyError\u001b[0m: 'wajahat1064/emotion-recognition-using-eeg-and-computer-games'"
          ]
        }
      ]
    },
    {
      "cell_type": "code",
      "source": [
        "# Visualize distributions to find outliers\n",
        "plt.figure(figsize=(12, 6))\n",
        "sns.boxplot(data=df)\n",
        "plt.xticks(rotation=90)\n",
        "plt.title(\"Boxplots to visualize outliers\")\n",
        "plt.show()\n",
        "\n",
        "# Optionally: remove rows with outliers using IQR method\n",
        "Q1 = df.quantile(0.25)\n",
        "Q3 = df.quantile(0.75)\n",
        "IQR = Q3 - Q1\n",
        "\n",
        "# Filter out outliers\n",
        "df = df[~((df < (Q1 - 1.5 * IQR)) | (df > (Q3 + 1.5 * IQR))).any(axis=1)]\n"
      ],
      "metadata": {
        "id": "nUQ6_gASPdJ8"
      },
      "execution_count": null,
      "outputs": []
    },
    {
      "cell_type": "code",
      "source": [
        "# Check for object or categorical columns\n",
        "print(\"Non-numeric columns:\", df.select_dtypes(include=['object', 'category']).columns)\n",
        "\n",
        "# If any categorical columns are present, encode them\n",
        "# Example: df['Emotion'] = df['Emotion'].map({'Happy': 0, 'Sad': 1, 'Angry': 2, ...})\n",
        "# Or use one-hot encoding:\n",
        "# df = pd.get_dummies(df, drop_first=True)\n"
      ],
      "metadata": {
        "colab": {
          "base_uri": "https://localhost:8080/"
        },
        "id": "NE51KeRWPhCB",
        "outputId": "a00d99dc-bd0a-4481-c873-74c47b8439fd"
      },
      "execution_count": 8,
      "outputs": [
        {
          "output_type": "stream",
          "name": "stdout",
          "text": [
            "Non-numeric columns: Index([], dtype='object')\n"
          ]
        }
      ]
    },
    {
      "cell_type": "code",
      "source": [
        "# Example: mean signal per row (across channels)\n",
        "df['Signal_Mean'] = df.mean(axis=1)\n",
        "df['Signal_Std'] = df.std(axis=1)\n",
        "\n",
        "# Optional: Feature interaction\n",
        "df['Mean_to_Std_Ratio'] = df['Signal_Mean'] / (df['Signal_Std'] + 1e-5)\n",
        "\n",
        "# Drop unnamed columns with all NaN values\n",
        "df = df.loc[:, df.columns[~df.columns.str.contains('^Unnamed')]]\n",
        "\n",
        "print(\"Shape after all prep:\", df.shape)\n",
        "print(df.head())\n"
      ],
      "metadata": {
        "id": "0iWE_EiyPlQG"
      },
      "execution_count": 7,
      "outputs": []
    }
  ]
}